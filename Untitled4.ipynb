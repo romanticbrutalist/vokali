{
 "cells": [
  {
   "cell_type": "code",
   "execution_count": null,
   "metadata": {},
   "outputs": [],
   "source": [
    "import numpy as np\n",
    "import pandas as pd\n",
    "import tqdm\n",
    "from sklearn import tree\n",
    "from kmodes.kmodes import KModes\n",
    "from sklearn.cluster import SpectralClustering\n",
    "from collections import Counter\n",
    "from sklearn.linear_model import LinearRegression\n",
    "import matplotlib.pyplot as plt\n",
    "from sklearn.cluster import AffinityPropagation\n",
    "from mpl_toolkits.mplot3d import Axes3D\n",
    "from sklearn.cluster import KMeans\n",
    "import math \n",
    "import sklearn\n",
    "import scipy.special as sp\n",
    "from tqdm import tqdm\n",
    "\n",
    "from sklearn.decomposition import PCA\n",
    "from sklearn.decomposition import KernelPCA\n",
    "from sklearn.decomposition import FastICA\n",
    "from sklearn.cluster import AgglomerativeClustering\n",
    "from sklearn.cluster import DBSCAN\n",
    "%matplotlib notebook\n",
    "\n",
    "df=[]\n",
    "df1=[]\n",
    "#for i in range(7):\n",
    "#    df.append(pd.read_csv(\"/home/franc/franc/matches/b\"+str(i)+\".csv\"))\n",
    "\n",
    "#for i in range(7):\n",
    "#    df.append(pd.read_csv(\"/home/franc/franc/matches/f2\"+str(i)+\".csv\"))\n",
    "\n",
    "for i in range(7):\n",
    "    df.append(pd.read_csv(\"/home/franc/franc/matches/ec\"+str(i)+\".csv\"))\n",
    "#for i in range(7):\n",
    "#    df.append(pd.read_csv(\"/home/franc/franc/matches/n\"+str(i)+\".csv\"))\n",
    "    \n",
    "#for i in range(7):\n",
    "#    df.append(pd.read_csv(\"/home/franc/franc/matches/d2\"+str(i)+\".csv\"))\n",
    "    \n",
    "#for i in range(6):\n",
    "#    df.append(pd.read_csv(\"/home/franc/franc/matches/d1\"+str(i)+\".csv\"))    \n",
    "#df1.append(pd.read_csv(\"/home/franc/franc/matches/SWE.csv\"))\n",
    "#df1.append(pd.read_csv(\"/home/franc/franc/matches/DNK.csv\"))\n",
    "#df1.append(pd.read_csv(\"/home/franc/franc/matches/CHN.csv\"))\n",
    "#df1.append(pd.read_csv(\"/home/franc/franc/matches/ARG.csv\"))\n",
    "#df1.append(pd.read_csv(\"/home/franc/franc/matches/NOR.csv\"))\n",
    "#df1.append(pd.read_csv(\"/home/franc/franc/matches/JPN.csv\"))#Doesnt work well\n",
    "#df1.append(pd.read_csv(\"/home/franc/franc/matches/AUT.csv\"))\n",
    "df1.append(pd.read_csv(\"/home/franc/franc/matches/POL.csv\"))\n",
    "\n",
    "df=pd.concat(df,sort=False)\n",
    "#df1=pd.concat(df1,sort=False)"
   ]
  }
 ],
 "metadata": {
  "kernelspec": {
   "display_name": "Python 3",
   "language": "python",
   "name": "python3"
  },
  "language_info": {
   "codemirror_mode": {
    "name": "ipython",
    "version": 3
   },
   "file_extension": ".py",
   "mimetype": "text/x-python",
   "name": "python",
   "nbconvert_exporter": "python",
   "pygments_lexer": "ipython3",
   "version": "3.7.3"
  }
 },
 "nbformat": 4,
 "nbformat_minor": 2
}
